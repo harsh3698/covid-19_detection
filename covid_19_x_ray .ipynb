{
  "nbformat": 4,
  "nbformat_minor": 0,
  "metadata": {
    "colab": {
      "name": "covid-19_x-ray.ipynb",
      "provenance": []
    },
    "kernelspec": {
      "name": "python3",
      "display_name": "Python 3"
    },
    "accelerator": "GPU"
  },
  "cells": [
    {
      "cell_type": "code",
      "metadata": {
        "id": "wVL2h4SPFWuP",
        "colab_type": "code",
        "colab": {
          "base_uri": "https://localhost:8080/",
          "height": 85
        },
        "outputId": "8ec1c827-462b-4bfa-a60d-4857526538d8"
      },
      "source": [
        "# download data of xray \n",
        "!gdown https://drive.google.com/uc?id=1coM7x3378f-Ou2l6Pg2wldaOI7Dntu1a"
      ],
      "execution_count": 1,
      "outputs": [
        {
          "output_type": "stream",
          "text": [
            "Downloading...\n",
            "From: https://drive.google.com/uc?id=1coM7x3378f-Ou2l6Pg2wldaOI7Dntu1a\n",
            "To: /content/Covid_Data_GradientCrescent.zip\n",
            "154MB [00:03, 48.6MB/s]\n"
          ],
          "name": "stdout"
        }
      ]
    },
    {
      "cell_type": "code",
      "metadata": {
        "id": "6OfEFrwJGezy",
        "colab_type": "code",
        "colab": {}
      },
      "source": [
        "!unzip /content/Covid_Data_GradientCrescent.zip"
      ],
      "execution_count": 0,
      "outputs": []
    },
    {
      "cell_type": "code",
      "metadata": {
        "id": "CnNTDGB4Ii94",
        "colab_type": "code",
        "colab": {}
      },
      "source": [
        "import numpy as np\n",
        "import tensorflow as tf\n",
        "train_dir = '/content/two/train'\n",
        "test_dir = '/content/two/test'\n",
        "img_size = (150, 150)\n",
        "batch_size = 10 \n",
        "epoch = 20\n",
        "learning_rate = 0.0005"
      ],
      "execution_count": 0,
      "outputs": []
    },
    {
      "cell_type": "code",
      "metadata": {
        "id": "RldnEariHVtl",
        "colab_type": "code",
        "colab": {
          "base_uri": "https://localhost:8080/",
          "height": 88
        },
        "outputId": "7a9691d5-a56d-4a52-ec3b-2f6ec048df9a"
      },
      "source": [
        "from keras.preprocessing.image import ImageDataGenerator, img_to_array, array_to_img, load_img\n",
        "\n",
        "train_data = ImageDataGenerator(rescale = 1./255,\n",
        "                                rotation_range=50,\n",
        "                                featurewise_center = True,\n",
        "                                featurewise_std_normalization = True,\n",
        "                                width_shift_range=0.2,\n",
        "                                height_shift_range=0.2,\n",
        "                                shear_range=0.25,\n",
        "                                zoom_range=0.1,\n",
        "                                zca_whitening = True,\n",
        "                                channel_shift_range = 20,\n",
        "                                horizontal_flip = True ,\n",
        "                                vertical_flip = True ,\n",
        "                                validation_split = 0.2,\n",
        "                                fill_mode='constant')"
      ],
      "execution_count": 10,
      "outputs": [
        {
          "output_type": "stream",
          "text": [
            "Using TensorFlow backend.\n",
            "/usr/local/lib/python3.6/dist-packages/keras_preprocessing/image/image_data_generator.py:341: UserWarning: This ImageDataGenerator specifies `zca_whitening` which overrides setting of`featurewise_std_normalization`.\n",
            "  warnings.warn('This ImageDataGenerator specifies '\n"
          ],
          "name": "stderr"
        }
      ]
    },
    {
      "cell_type": "code",
      "metadata": {
        "id": "PjijGF_gJZ1L",
        "colab_type": "code",
        "colab": {
          "base_uri": "https://localhost:8080/",
          "height": 51
        },
        "outputId": "9fbc2c0d-dcf8-450b-c7bc-870ad79f2d6d"
      },
      "source": [
        "train_generator = train_data.flow_from_directory(train_dir, \n",
        "                                                 target_size = img_size,\n",
        "                                                 shuffle = True,\n",
        "                                                 batch_size = batch_size,\n",
        "                                                 subset = 'training',\n",
        "                                                 class_mode = 'binary') \n",
        "valid_generator = train_data.flow_from_directory(train_dir,\n",
        "                                                 target_size = img_size,\n",
        "                                                 shuffle = True,\n",
        "                                                 batch_size = batch_size,\n",
        "                                                 subset = 'validation',\n",
        "                                                 class_mode = 'binary') #2binary"
      ],
      "execution_count": 11,
      "outputs": [
        {
          "output_type": "stream",
          "text": [
            "Found 104 images belonging to 2 classes.\n",
            "Found 26 images belonging to 2 classes.\n"
          ],
          "name": "stdout"
        }
      ]
    },
    {
      "cell_type": "code",
      "metadata": {
        "id": "I7I_Ova_LWBi",
        "colab_type": "code",
        "colab": {}
      },
      "source": [
        "from tensorflow.python.keras.models import Sequential\n",
        "from tensorflow.python.keras import layers\n",
        "from tensorflow.python.keras import optimizers\n",
        "from tensorflow.python.keras.layers.core import Flatten, Dense, Dropout, Lambda"
      ],
      "execution_count": 0,
      "outputs": []
    },
    {
      "cell_type": "code",
      "metadata": {
        "id": "s7D_i9LBMWGJ",
        "colab_type": "code",
        "colab": {}
      },
      "source": [
        "base = tf.keras.applications.VGG16(weights = 'imagenet',\n",
        "             include_top = False,\n",
        "             input_shape = (150, 150, 3))\n",
        "base.trainable = False"
      ],
      "execution_count": 0,
      "outputs": []
    },
    {
      "cell_type": "code",
      "metadata": {
        "id": "K36FONjCNHd8",
        "colab_type": "code",
        "colab": {}
      },
      "source": [
        "model = Sequential()\n",
        "model.add(base)\n",
        "model.add(Flatten())\n",
        "model.add(Dense(256, activation = 'relu'))\n",
        "model.add(Dense(1, activation = 'sigmoid'))\n",
        "model.compile(loss = 'binary_crossentropy',\n",
        "              optimizer = 'Adam',\n",
        "              metrics=['accuracy'])"
      ],
      "execution_count": 0,
      "outputs": []
    },
    {
      "cell_type": "code",
      "metadata": {
        "id": "hLIuTmE4VZIM",
        "colab_type": "code",
        "colab": {}
      },
      "source": [
        "ss_train = train_generator.n//train_generator.batch_size\n",
        "ss_valid = valid_generator.n//valid_generator.batch_size"
      ],
      "execution_count": 0,
      "outputs": []
    },
    {
      "cell_type": "code",
      "metadata": {
        "id": "bNkSwH1zc8iQ",
        "colab_type": "code",
        "colab": {
          "base_uri": "https://localhost:8080/",
          "height": 785
        },
        "outputId": "ee8da4a3-52a1-4f7f-a683-0049581dc74b"
      },
      "source": [
        "output = model.fit_generator(train_generator,\n",
        "                             steps_per_epoch = ss_train,\n",
        "                             validation_data = valid_generator,\n",
        "                             validation_steps = ss_valid,\n",
        "                             epochs = epoch\n",
        "                             )"
      ],
      "execution_count": 19,
      "outputs": [
        {
          "output_type": "stream",
          "text": [
            "/usr/local/lib/python3.6/dist-packages/keras_preprocessing/image/image_data_generator.py:716: UserWarning: This ImageDataGenerator specifies `featurewise_center`, but it hasn't been fit on any training data. Fit it first by calling `.fit(numpy_data)`.\n",
            "  warnings.warn('This ImageDataGenerator specifies '\n",
            "/usr/local/lib/python3.6/dist-packages/keras_preprocessing/image/image_data_generator.py:735: UserWarning: This ImageDataGenerator specifies `zca_whitening`, but it hasn't been fit on any training data. Fit it first by calling `.fit(numpy_data)`.\n",
            "  warnings.warn('This ImageDataGenerator specifies '\n"
          ],
          "name": "stderr"
        },
        {
          "output_type": "stream",
          "text": [
            "Epoch 1/20\n",
            "10/10 [==============================] - 4s 370ms/step - loss: 2.0162 - accuracy: 0.4574 - val_loss: 0.7692 - val_accuracy: 0.4500\n",
            "Epoch 2/20\n",
            "10/10 [==============================] - 3s 308ms/step - loss: 0.7121 - accuracy: 0.5426 - val_loss: 0.6435 - val_accuracy: 0.5500\n",
            "Epoch 3/20\n",
            "10/10 [==============================] - 3s 322ms/step - loss: 0.5675 - accuracy: 0.6915 - val_loss: 0.4230 - val_accuracy: 0.9500\n",
            "Epoch 4/20\n",
            "10/10 [==============================] - 3s 344ms/step - loss: 0.4791 - accuracy: 0.7979 - val_loss: 0.3726 - val_accuracy: 0.9000\n",
            "Epoch 5/20\n",
            "10/10 [==============================] - 3s 330ms/step - loss: 0.4469 - accuracy: 0.7872 - val_loss: 0.2785 - val_accuracy: 0.9000\n",
            "Epoch 6/20\n",
            "10/10 [==============================] - 4s 361ms/step - loss: 0.2856 - accuracy: 0.9149 - val_loss: 0.4117 - val_accuracy: 0.8500\n",
            "Epoch 7/20\n",
            "10/10 [==============================] - 3s 317ms/step - loss: 0.2973 - accuracy: 0.8936 - val_loss: 0.2668 - val_accuracy: 0.8500\n",
            "Epoch 8/20\n",
            "10/10 [==============================] - 3s 309ms/step - loss: 0.2247 - accuracy: 0.8723 - val_loss: 0.2266 - val_accuracy: 0.9500\n",
            "Epoch 9/20\n",
            "10/10 [==============================] - 3s 329ms/step - loss: 0.2507 - accuracy: 0.8936 - val_loss: 0.2660 - val_accuracy: 0.9500\n",
            "Epoch 10/20\n",
            "10/10 [==============================] - 3s 347ms/step - loss: 0.2372 - accuracy: 0.8936 - val_loss: 0.1743 - val_accuracy: 0.9500\n",
            "Epoch 11/20\n",
            "10/10 [==============================] - 3s 330ms/step - loss: 0.1719 - accuracy: 0.9500 - val_loss: 0.1225 - val_accuracy: 1.0000\n",
            "Epoch 12/20\n",
            "10/10 [==============================] - 3s 338ms/step - loss: 0.1881 - accuracy: 0.9255 - val_loss: 0.1439 - val_accuracy: 0.9500\n",
            "Epoch 13/20\n",
            "10/10 [==============================] - 3s 332ms/step - loss: 0.1859 - accuracy: 0.9468 - val_loss: 0.1774 - val_accuracy: 0.9500\n",
            "Epoch 14/20\n",
            "10/10 [==============================] - 3s 350ms/step - loss: 0.1664 - accuracy: 0.9255 - val_loss: 0.1038 - val_accuracy: 1.0000\n",
            "Epoch 15/20\n",
            "10/10 [==============================] - 3s 315ms/step - loss: 0.1573 - accuracy: 0.9681 - val_loss: 0.3008 - val_accuracy: 0.8500\n",
            "Epoch 16/20\n",
            "10/10 [==============================] - 3s 345ms/step - loss: 0.1683 - accuracy: 0.9255 - val_loss: 0.1748 - val_accuracy: 0.9000\n",
            "Epoch 17/20\n",
            "10/10 [==============================] - 3s 306ms/step - loss: 0.0839 - accuracy: 0.9787 - val_loss: 0.2041 - val_accuracy: 0.9500\n",
            "Epoch 18/20\n",
            "10/10 [==============================] - 3s 325ms/step - loss: 0.1041 - accuracy: 0.9574 - val_loss: 0.0971 - val_accuracy: 0.9500\n",
            "Epoch 19/20\n",
            "10/10 [==============================] - 3s 346ms/step - loss: 0.1470 - accuracy: 0.9787 - val_loss: 0.2109 - val_accuracy: 0.9000\n",
            "Epoch 20/20\n",
            "10/10 [==============================] - 3s 331ms/step - loss: 0.1775 - accuracy: 0.9362 - val_loss: 0.0752 - val_accuracy: 0.9500\n"
          ],
          "name": "stdout"
        }
      ]
    },
    {
      "cell_type": "code",
      "metadata": {
        "id": "zjdFeo-Gdf9Z",
        "colab_type": "code",
        "colab": {
          "base_uri": "https://localhost:8080/",
          "height": 338
        },
        "outputId": "9b3e2e3b-2896-4cbd-e7cc-772c5563d841"
      },
      "source": [
        "import matplotlib.pyplot as plt\n",
        "def plot_acc_loss(output, epochs):\n",
        " acc = output.history['accuracy']\n",
        " loss = output.history['loss']\n",
        " val_acc = output.history['val_accuracy']\n",
        " val_loss = output.history['val_loss']\n",
        " plt.figure(figsize=(15, 5))\n",
        " plt.subplot(121)\n",
        " plt.plot(range(1,epochs), acc[1:], label='Train_acc')\n",
        " plt.plot(range(1,epochs), val_acc[1:], label='Test_acc')\n",
        " plt.title('Accuracy over ' + str(epochs) +  ' Epochs ', size=15)\n",
        " plt.legend()\n",
        " plt.grid(True)\n",
        " plt.subplot(122)\n",
        " plt.plot(range(1,epochs), loss[1:], label='Train_loss')\n",
        " plt.plot(range(1,epochs), val_loss[1:], label='Test_loss')\n",
        " plt.title(' Loss over ' + str(epochs) + ' Epochs ', size=15)\n",
        " plt.legend()\n",
        " plt.grid(True)\n",
        " plt.show()\n",
        " \n",
        "plot_acc_loss(output, 20)"
      ],
      "execution_count": 20,
      "outputs": [
        {
          "output_type": "display_data",
          "data": {
            "image/png": "[encoded data removed]",
            "text/plain": [
              "<Figure size 1080x360 with 2 Axes>"
            ]
          },
          "metadata": {
            "tags": []
          }
        }
      ]
    },
    {
      "cell_type": "code",
      "metadata": {
        "id": "3PDQPwHFeprq",
        "colab_type": "code",
        "colab": {
          "base_uri": "https://localhost:8080/",
          "height": 85
        },
        "outputId": "dc737373-d466-4ac2-d53d-0cfea90da443"
      },
      "source": [
        "test_generator = ImageDataGenerator(rescale = 1./255)\n",
        "evaluation = test_generator.flow_from_directory(test_dir,\n",
        "                                                target_size = img_size,\n",
        "                                                batch_size = 1,\n",
        "                                                shuffle = True,\n",
        "                                                seed = 0,\n",
        "                                                class_mode = 'binary')#4\n",
        "x = model.evaluate_generator(evaluation,\n",
        "                            steps = np.ceil(len(evaluation)/batch_size),\n",
        "                            use_multiprocessing = False,\n",
        "                            verbose = 1,\n",
        "                            workers=1)\n",
        "print('Test loss: ' , x[0])\n",
        "print('Test accuracy: ',x[1])"
      ],
      "execution_count": 22,
      "outputs": [
        {
          "output_type": "stream",
          "text": [
            "Found 18 images belonging to 2 classes.\n",
            "2/2 [==============================] - 0s 17ms/step - loss: 0.1989 - accuracy: 1.0000\n",
            "Test loss:  0.19885440170764923\n",
            "Test accuracy:  1.0\n"
          ],
          "name": "stdout"
        }
      ]
    },
    {
      "cell_type": "code",
      "metadata": {
        "id": "_zLN2UI4iZdC",
        "colab_type": "code",
        "colab": {}
      },
      "source": [
        ""
      ],
      "execution_count": 0,
      "outputs": []
    }
  ]
}